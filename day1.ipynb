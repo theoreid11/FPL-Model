{
 "cells": [
  {
   "cell_type": "code",
   "execution_count": null,
   "metadata": {},
   "outputs": [],
   "source": [
    "from bs4 import BeautifulSoup\n",
    "import requests"
   ]
  },
  {
   "cell_type": "code",
   "execution_count": null,
   "metadata": {},
   "outputs": [],
   "source": [
    "from selenium import webdriver\n",
    "from selenium.webdriver.chrome.service import Service\n",
    "from selenium.webdriver.common.by import By\n",
    "from selenium.webdriver.support.ui import WebDriverWait\n",
    "from selenium.webdriver.support import expected_conditions as EC\n",
    "\n",
    "import pandas as pd\n",
    "import time\n",
    "\n",
    "# Selenium WebDriver \n",
    "service = Service(r\"C:\\Users\\theoi\\Downloads\\chromedriver-win64\\chromedriver.exe\")\n",
    "driver = webdriver.Chrome(service=service)\n",
    "\n",
    "\n"
   ]
  },
  {
   "cell_type": "code",
   "execution_count": null,
   "metadata": {},
   "outputs": [],
   "source": [
    "# FPL Review planner page\n",
    "driver.get(\"https://fplreview.com/free-planner/#teamProjections\")\n",
    "\n",
    "# wait for the page to load and elements to appear\n",
    "wait = WebDriverWait(driver, 20)\n",
    "\n"
   ]
  },
  {
   "cell_type": "code",
   "execution_count": null,
   "metadata": {},
   "outputs": [],
   "source": [
    "\n",
    "team_id_input = wait.until(EC.element_to_be_clickable((By.ID, \"liveTeamID\")))\n",
    "team_id_input.clear()\n",
    "team_id_input.send_keys(\"1\")\n",
    "\n",
    "\n",
    "load_page_button = wait.until(EC.element_to_be_clickable((By.CLASS_NAME, \"redbutton\")))\n",
    "load_page_button.click()\n",
    "\n",
    "\n",
    "load_group_dropdown = wait.until(EC.element_to_be_clickable((By.ID, \"myGroup\")))\n",
    "from selenium.webdriver.support.ui import Select\n",
    "select = Select(load_group_dropdown)\n",
    "select.select_by_visible_text(\"All Players\")\n",
    "\n",
    "xmins_option = wait.until(EC.element_to_be_clickable((By.ID, \"XMINopt\")))\n",
    "xmins_option.click()\n"
   ]
  },
  {
   "cell_type": "code",
   "execution_count": null,
   "metadata": {},
   "outputs": [],
   "source": [
    "table = wait.until(EC.presence_of_element_located((By.ID, \"scout_table\")))\n",
    "rows = table.find_elements(By.CSS_SELECTOR, \"tr.playerRow\")\n",
    "data = []\n",
    " \n",
    "for row in rows:\n",
    "    cells = row.find_elements(By.TAG_NAME, \"td\")\n",
    "    row_data = []\n",
    "    for cell in cells:\n",
    "        # if the cell contains a player name/details, extract those specifically\n",
    "        player_name = cell.find_elements(By.CLASS_NAME, \"playerName\")\n",
    "        player_details = cell.find_elements(By.CLASS_NAME, \"playerDetails\")\n",
    "        if player_name and player_details:\n",
    "            row_data.append(player_name[0].text)\n",
    "            row_data.append(player_details[0].text)\n",
    "        else:\n",
    "            row_data.append(cell.text)\n",
    "    data.append(row_data)\n"
   ]
  },
  {
   "cell_type": "code",
   "execution_count": null,
   "metadata": {},
   "outputs": [
    {
     "name": "stdout",
     "output_type": "stream",
     "text": [
      "    index                 name  details xmins xmins_gw1 xmins_gw2 xmins_gw3  \\\n",
      "0                     Petrović   GK 4.5    94        94        90        94   \n",
      "1                        Roefs   GK 4.5    94        94        91        90   \n",
      "2                      Sánchez   GK 5.0    94        94        92        90   \n",
      "3                      José Sá   GK 4.5    93        93        94        93   \n",
      "4                   Verbruggen   GK 4.5    93        93        93        92   \n",
      "..    ...                  ...      ...   ...       ...       ...       ...   \n",
      "691        Josh Wilson-Esbrand  DF 99.9     0         0         0         0   \n",
      "692                Issa Kaboré  DF 99.9     0         0         0         0   \n",
      "693               Ben Chilwell  DF 99.9     0         0         0         0   \n",
      "694           Hindolo Mustapha  MD 99.9     0         0         0         0   \n",
      "695               Callum Doyle  DF 99.9     0         0         0         0   \n",
      "\n",
      "    xmins_gw4 xmins_gw5 total_xmins   /£M elite%  \n",
      "0          90        91         459  20.4   3.8%  \n",
      "1          91        91         457  20.3   0.2%  \n",
      "2          87        90         453  18.1  18.6%  \n",
      "3          92        91         463  20.6   2.3%  \n",
      "4          92        92         462  20.5   7.5%  \n",
      "..        ...       ...         ...   ...    ...  \n",
      "691         0         0           0   0.0   0.0%  \n",
      "692         0         0           0   0.0   0.0%  \n",
      "693         0         0           0   0.0   0.0%  \n",
      "694         0         0           0   0.0   0.0%  \n",
      "695         0         0           0   0.0   0.0%  \n",
      "\n",
      "[696 rows x 12 columns]\n"
     ]
    }
   ],
   "source": [
    "# define columns to match table structure\n",
    "columns = [\n",
    "    \"index\", \"name\", \"details\", \"xmins\", \"xmins_gw1\", \"xmins_gw2\", \"xmins_gw3\", \"xmins_gw4\", \"xmins_gw5\",\"total_xmins\",\"/£M\",\"elite%\",\"empty\"\n",
    "]\n",
    "df = pd.DataFrame(data, columns=columns[:len(data[0])]).drop(columns = [\"empty\"])\n",
    "print(df)"
   ]
  },
  {
   "cell_type": "code",
   "execution_count": null,
   "metadata": {},
   "outputs": [
    {
     "name": "stdout",
     "output_type": "stream",
     "text": [
      "         name position price\n",
      "0    Petrović       GK   4.5\n",
      "1       Roefs       GK   4.5\n",
      "2     Sánchez       GK   5.0\n",
      "3     José Sá       GK   4.5\n",
      "4  Verbruggen       GK   4.5\n"
     ]
    }
   ],
   "source": [
    "# split details into position and price columns\n",
    "df[['position', 'price']] = df['details'].str.extract(r'(\\w+)\\s+([\\d.]+)')\n",
    "df = df.drop(columns=['details'])\n",
    "print(df[['name', 'position', 'price']].head())"
   ]
  },
  {
   "cell_type": "code",
   "execution_count": 32,
   "metadata": {},
   "outputs": [
    {
     "name": "stdout",
     "output_type": "stream",
     "text": [
      "    index                 name xmins xmins_gw1 xmins_gw2 xmins_gw3 xmins_gw4  \\\n",
      "0                     Petrović    94        94        90        94        90   \n",
      "1                        Roefs    94        94        91        90        91   \n",
      "2                      Sánchez    94        94        92        90        87   \n",
      "3                      José Sá    93        93        94        93        92   \n",
      "4                   Verbruggen    93        93        93        92        92   \n",
      "..    ...                  ...   ...       ...       ...       ...       ...   \n",
      "691        Josh Wilson-Esbrand     0         0         0         0         0   \n",
      "692                Issa Kaboré     0         0         0         0         0   \n",
      "693               Ben Chilwell     0         0         0         0         0   \n",
      "694           Hindolo Mustapha     0         0         0         0         0   \n",
      "695               Callum Doyle     0         0         0         0         0   \n",
      "\n",
      "    xmins_gw5 total_xmins   /£M elite% position price  \n",
      "0          91         459  20.4   3.8%       GK   4.5  \n",
      "1          91         457  20.3   0.2%       GK   4.5  \n",
      "2          90         453  18.1  18.6%       GK   5.0  \n",
      "3          91         463  20.6   2.3%       GK   4.5  \n",
      "4          92         462  20.5   7.5%       GK   4.5  \n",
      "..        ...         ...   ...    ...      ...   ...  \n",
      "691         0           0   0.0   0.0%       DF  99.9  \n",
      "692         0           0   0.0   0.0%       DF  99.9  \n",
      "693         0           0   0.0   0.0%       DF  99.9  \n",
      "694         0           0   0.0   0.0%       MD  99.9  \n",
      "695         0           0   0.0   0.0%       DF  99.9  \n",
      "\n",
      "[696 rows x 13 columns]\n"
     ]
    }
   ],
   "source": [
    "print(df)"
   ]
  },
  {
   "cell_type": "code",
   "execution_count": null,
   "metadata": {},
   "outputs": [],
   "source": []
  }
 ],
 "metadata": {
  "kernelspec": {
   "display_name": "venv",
   "language": "python",
   "name": "python3"
  },
  "language_info": {
   "codemirror_mode": {
    "name": "ipython",
    "version": 3
   },
   "file_extension": ".py",
   "mimetype": "text/x-python",
   "name": "python",
   "nbconvert_exporter": "python",
   "pygments_lexer": "ipython3",
   "version": "3.10.11"
  }
 },
 "nbformat": 4,
 "nbformat_minor": 2
}
